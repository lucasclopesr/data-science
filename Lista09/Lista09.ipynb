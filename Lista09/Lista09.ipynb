{
 "cells": [
  {
   "cell_type": "markdown",
   "metadata": {},
   "source": [
    "Before you turn this problem in, make sure everything runs as expected. First, **restart the kernel** (in the menubar, select Kernel$\\rightarrow$Restart) and then **run all cells** (in the menubar, select Cell$\\rightarrow$Run All).\n",
    "\n",
    "Make sure you fill in any place that says `YOUR CODE HERE` or \"YOUR ANSWER HERE\", as well as your name and collaborators below:"
   ]
  },
  {
   "cell_type": "code",
   "execution_count": 1,
   "metadata": {},
   "outputs": [],
   "source": [
    "NAME = \"Lucas Caetano Lopes Rodrigues\"\n",
    "COLLABORATORS = \"\""
   ]
  },
  {
   "cell_type": "markdown",
   "metadata": {},
   "source": [
    "---"
   ]
  },
  {
   "cell_type": "markdown",
   "metadata": {
    "deletable": false,
    "editable": false,
    "nbgrader": {
     "cell_type": "markdown",
     "checksum": "d4f2b1835f0ee2aff2b53c1f18c89ce4",
     "grade": false,
     "grade_id": "cellc-a00",
     "locked": true,
     "schema_version": 3,
     "solution": false
    }
   },
   "source": [
    "# Lista 09 - Comparando Regressões"
   ]
  },
  {
   "cell_type": "markdown",
   "metadata": {
    "deletable": false,
    "editable": false,
    "nbgrader": {
     "cell_type": "markdown",
     "checksum": "c77a6c3fedbe648e6e209ba6323f711e",
     "grade": false,
     "grade_id": "cell-acd6c643a4ce1477",
     "locked": true,
     "schema_version": 3,
     "solution": false
    }
   },
   "source": [
    "# Exercício 01:\n",
    "\n",
    "Analise o desempenho do kNN e de uma Regressão Linear Regularizada para **pelo menos um** dos conjuntos de dados disponível na [seção de regressão linear múltipla](http://college.cengage.com/mathematics/brase/understandable_statistics/7e/students/datasets/mlr/frames/frame.html) da página do *Livro Understandable Statistics* de Charles Brase e Corrinne Brase. Para o conjunto de dados que escolheu, execute a regressão linear múltipla para explicar o fator $X1$ dos dados ([ver descrição de um dos conjuntos](http://college.cengage.com/mathematics/brase/understandable_statistics/7e/students/datasets/mlr/frames/frame.html)) a partir dos outros fatores. \n",
    "\n",
    "Para a questão, faça as seguintes tarefas:\n",
    "\n",
    "* Realize treino, validação e teste\n",
    "* Compare as métricas no teste\n",
    "* Diferente da lista anterior, reporte o erro quadrado médio no conjunto de teste."
   ]
  },
  {
   "cell_type": "code",
   "execution_count": 2,
   "metadata": {
    "deletable": false,
    "nbgrader": {
     "cell_type": "code",
     "checksum": "4b150d82b2e8cfad6c84a05e0d9b07bb",
     "grade": true,
     "grade_id": "cell-1b46a0ab690a7b8c",
     "locked": false,
     "points": 6,
     "schema_version": 3,
     "solution": true
    }
   },
   "outputs": [],
   "source": [
    "import numpy as np\n",
    "import matplotlib.pyplot as plt\n",
    "import pandas as pd\n",
    "\n",
    "from sklearn.preprocessing import StandardScaler\n",
    "from sklearn.feature_selection import RFE\n",
    "from sklearn.metrics import mean_squared_error\n",
    "from sklearn.metrics import r2_score\n",
    "\n",
    "from sklearn.model_selection import KFold\n",
    "from sklearn.model_selection import train_test_split\n",
    "from sklearn.model_selection import GridSearchCV\n",
    "\n",
    "from sklearn.neighbors import KNeighborsRegressor\n",
    "from sklearn.linear_model import LinearRegression"
   ]
  },
  {
   "cell_type": "code",
   "execution_count": 3,
   "metadata": {},
   "outputs": [
    {
     "name": "stdout",
     "output_type": "stream",
     "text": [
      "*** No CODEPAGE record, no encoding_override: will use 'ascii'\n"
     ]
    }
   ],
   "source": [
    "# The data (X1, X2, X3, X4, X5, X6, X7) are for each city.\n",
    "# X1 = total overall reported crime rate per 1 million residents\n",
    "# X2 = reported violent crime rate per 100,000 residents\n",
    "# X3 = annual police funding in $/resident\n",
    "# X4 = % of people 25 years+ with 4 yrs. of high school\n",
    "# X5 = % of 16 to 19 year-olds not in highschool and not highschool graduates.\n",
    "# X6 = % of 18 to 24 year-olds in college\n",
    "# X7 = % of people 25 years+ with at least 4 years of college\n",
    "# https://college.cengage.com/mathematics/brase/understandable_statistics/7e/students/datasets/mlr/frames/mlr06.html\n",
    "\n",
    "cnames = {'X1': 'crime rate',\n",
    "          'X2': 'violent crime rate',\n",
    "          'X3': 'police funding',\n",
    "          'X4': '25 years highschool',\n",
    "          'X5': '16 to 19 not in highschool',\n",
    "          'X6': '18 to 24 in college',\n",
    "          'X7': '25 years college'}\n",
    "df = pd.read_excel('mlr06.xls')\n",
    "df.rename(columns = cnames, inplace=True)"
   ]
  },
  {
   "cell_type": "code",
   "execution_count": 4,
   "metadata": {},
   "outputs": [],
   "source": [
    "# Desejamos prever o crime rate baseado nas outras features\n",
    "# Para isso, utilizaremos os modelos KNN e Regressão Linear Regularizada\n",
    "# Primeiro vamos dividir o dataset em treino e testes\n",
    "y = df['crime rate']\n",
    "X = df.copy().drop('crime rate', axis=1)\n",
    "X_train, X_test, y_train, y_test = train_test_split(X, y, test_size=0.3)"
   ]
  },
  {
   "cell_type": "code",
   "execution_count": 5,
   "metadata": {},
   "outputs": [],
   "source": [
    "# ... e z-normalizar os dados de treino e de teste\n",
    "scaler = StandardScaler()\n",
    "Z_train = scaler.fit_transform(X_train)\n",
    "Z_train = pd.DataFrame(Z_train, index=X_train.index, columns=X_train.columns)\n",
    "\n",
    "Z_test = scaler.fit_transform(X_test)\n",
    "Z_test = pd.DataFrame(Z_test, index=X_test.index, columns=X_test.columns)"
   ]
  },
  {
   "cell_type": "code",
   "execution_count": 6,
   "metadata": {},
   "outputs": [
    {
     "name": "stdout",
     "output_type": "stream",
     "text": [
      "Erro quadrado KNR:  52718.386666666665\n",
      "R2 score KNR:  0.4238586081859268\n"
     ]
    }
   ],
   "source": [
    "params = {\"n_neighbors\": list(range(1,25))}\n",
    "# folds = KFold(n_splits = 5, shuffle = True, random_state = 100)\n",
    "\n",
    "knr = KNeighborsRegressor()\n",
    "knr_model = GridSearchCV(knr, params, cv=5)\n",
    "knr_model.fit(Z_train, y_train)\n",
    "knr_y_hat = knr_model.predict(Z_test)\n",
    "\n",
    "print('Erro quadrado KNR: ', mean_squared_error(y_test, knr_y_hat))\n",
    "print('R2 score KNR: ', r2_score(y_test, knr_y_hat))"
   ]
  },
  {
   "cell_type": "code",
   "execution_count": null,
   "metadata": {},
   "outputs": [],
   "source": []
  },
  {
   "cell_type": "code",
   "execution_count": 7,
   "metadata": {},
   "outputs": [
    {
     "name": "stdout",
     "output_type": "stream",
     "text": [
      "Erro quadrado Linear Regression:  62945.6328287891\n",
      "R2 score Linear Regression:  0.31208849891594737\n"
     ]
    }
   ],
   "source": [
    "# Agora testaremos o modelo de regressão linear\n",
    "# Utilização do GridSearch para selecionar um número adequado de features\n",
    "lr = LinearRegression()\n",
    "params = {\"n_features_to_select\": [1,2,3,4,5,6]}\n",
    "rfe = RFE(lr)\n",
    "\n",
    "lr_model = GridSearchCV(rfe, params, scoring= 'r2', cv = 5, return_train_score=True)\n",
    "lr_model.fit(Z_train, y_train)\n",
    "lr_y_hat = lr_model.predict(Z_test)\n",
    "\n",
    "print('Erro quadrado Linear Regression: ', mean_squared_error(y_test, lr_y_hat))\n",
    "print('R2 score Linear Regression: ', r2_score(y_test, lr_y_hat))"
   ]
  },
  {
   "cell_type": "markdown",
   "metadata": {
    "deletable": false,
    "editable": false,
    "nbgrader": {
     "cell_type": "markdown",
     "checksum": "c5c0a788bafbd1227adf600b857ee636",
     "grade": false,
     "grade_id": "cell-b8fab7f24e1b2a35",
     "locked": true,
     "schema_version": 3,
     "solution": false
    }
   },
   "source": [
    "Explique e discuta sobre os resultados encontrados no campo abaixo."
   ]
  },
  {
   "cell_type": "markdown",
   "metadata": {
    "deletable": false,
    "nbgrader": {
     "cell_type": "markdown",
     "checksum": "5bcd3931ea05c67838db7ff6d2fd0ea7",
     "grade": true,
     "grade_id": "cell-713eb691ead1e6c1",
     "locked": false,
     "points": 1.5,
     "schema_version": 3,
     "solution": true
    }
   },
   "source": [
    "Estranhamente os resultados estão variando substancialmente a cada vez que eu executo o notebook. Não sei dizer se é um problema no dataset que eu escolhi, no método de seleção dos conjuntos KFold ou na implementação dos meus modelos - ou todas as alternativas.\n",
    "\n",
    "Em algumas execuções o método de regressão KNN é muito melhor que a regressão linear enquanto em outras é exatamente o contrário."
   ]
  }
 ],
 "metadata": {
  "kernelspec": {
   "display_name": "Python 3",
   "language": "python",
   "name": "python3"
  },
  "language_info": {
   "codemirror_mode": {
    "name": "ipython",
    "version": 3
   },
   "file_extension": ".py",
   "mimetype": "text/x-python",
   "name": "python",
   "nbconvert_exporter": "python",
   "pygments_lexer": "ipython3",
   "version": "3.7.6"
  }
 },
 "nbformat": 4,
 "nbformat_minor": 2
}
