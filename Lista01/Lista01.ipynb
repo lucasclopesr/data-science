{
 "cells": [
  {
   "cell_type": "markdown",
   "metadata": {
    "deletable": false,
    "editable": false,
    "nbgrader": {
     "checksum": "d1be61fa00eddcb2f50f9cebbdb7fcc6",
     "grade": false,
     "grade_id": "cellc-a00",
     "locked": true,
     "schema_version": 1,
     "solution": false
    }
   },
   "source": [
    "# Lista 01 - EDA + Visualização"
   ]
  },
  {
   "cell_type": "code",
   "execution_count": 26,
   "metadata": {
    "deletable": false,
    "editable": false,
    "nbgrader": {
     "checksum": "f45e046d98afcc020d33a80e9a020879",
     "grade": false,
     "grade_id": "cell-20fe39048e63375d",
     "locked": true,
     "schema_version": 1,
     "solution": false
    }
   },
   "outputs": [],
   "source": [
    "# -*- coding: utf 8\n",
    "\n",
    "from matplotlib import pyplot as plt\n",
    "\n",
    "import pandas as pd\n",
    "import numpy as np\n",
    "\n",
    "plt.style.use('seaborn-colorblind')\n",
    "plt.ion()"
   ]
  },
  {
   "cell_type": "markdown",
   "metadata": {
    "deletable": false,
    "editable": false,
    "nbgrader": {
     "checksum": "782ecbe94c8301ece1816f8813c4ef31",
     "grade": false,
     "grade_id": "cell-9d1ad29e35bed9f4",
     "locked": true,
     "schema_version": 1,
     "solution": false
    }
   },
   "source": [
    "# Exercício 01:\n",
    "Em determinadas épocas do ano a venda de certos produtos sofre um aumento significativo. Um exemplo disso, são as vendas de sorvete que aumentam bastante no verão. Além do sorvete, outros itens como protetor solar e vestuário de banho podem ganhar maior atenção durante essa época do ano enquanto outros produtos podem não ser tão valorizados. Neste primeiro exercício, implemente a função abaixo que recebe quatro listas e cria um dataframe das quatro. A primeira lista será o índice do seu dataframe. A última, o nome das colunas.\n",
    "\n",
    "\n",
    "Por exemplo, ao passar:\n",
    "\n",
    "```python\n",
    "ice_cream = [3000, 2600, 1400, 1500, 1200, 500, 300, 400, 700, 600, 800, 1900]\n",
    "sunglasses = [1000, 800, 100, 70, 50, 190, 60, 50, 100, 120, 130, 900]\n",
    "coats = [10, 20, 80, 120, 100, 500, 900, 780, 360, 100, 120, 20]\n",
    "labels = [\"Jan\", \"Fev\", \"Mar\", \"Abr\", \"Mai\", \"Jun\", \"Jul\", \"Ago\", \"Set\", \"Out\", \"Nov\", \"Dez\"]\n",
    "\n",
    "names = [\"icecream\", \"sunglasses\", \"coats\"]\n",
    "\n",
    "cria_df(labels, ice_cream, sunglasses, coats, names)\n",
    "```\n",
    "\n",
    "A tabela deve ser da forma:\n",
    "\n",
    "```\n",
    "       icecream   sunglasses   coats\n",
    "------------------------------------\n",
    "Jan     3000        1000        10\n",
    "Fev     2600        800         20\n",
    "...     ...         ...        ...\n",
    "Dez     1900        900         20\n",
    "```\n",
    "\n",
    "__Dica__\n",
    "\n",
    "Usar `list(zip(colunas))`. Ou, montar um dicionário na mão."
   ]
  },
  {
   "cell_type": "code",
   "execution_count": 27,
   "metadata": {
    "deletable": false,
    "nbgrader": {
     "checksum": "4c3f4c99f6bdd2fda01c60d4d44d94aa",
     "grade": false,
     "grade_id": "cell-3f60daae27375779",
     "locked": false,
     "schema_version": 1,
     "solution": true
    }
   },
   "outputs": [],
   "source": [
    "def cria_df(labels, coluna1, coluna2, coluna3, names):\n",
    "    icecream = {}\n",
    "    sunglasses  = {}\n",
    "    coats = {}\n",
    "    \n",
    "    for i, val in enumerate(labels):\n",
    "        icecream[val] = coluna1[i]\n",
    "        sunglasses[val] = coluna2[i]\n",
    "        coats[val] = coluna3[i]\n",
    "    \n",
    "    data = pd.DataFrame({'icecream': icecream, 'sunglasses': sunglasses, 'coats': coats})\n",
    "    return data"
   ]
  },
  {
   "cell_type": "code",
   "execution_count": 25,
   "metadata": {
    "deletable": false,
    "editable": false,
    "nbgrader": {
     "checksum": "00fcabdf4da986609f257a112881b36f",
     "grade": true,
     "grade_id": "cell-7ffe28105370b669",
     "locked": true,
     "points": 0,
     "schema_version": 1,
     "solution": false
    }
   },
   "outputs": [
    {
     "data": {
      "text/html": [
       "<div>\n",
       "<style scoped>\n",
       "    .dataframe tbody tr th:only-of-type {\n",
       "        vertical-align: middle;\n",
       "    }\n",
       "\n",
       "    .dataframe tbody tr th {\n",
       "        vertical-align: top;\n",
       "    }\n",
       "\n",
       "    .dataframe thead th {\n",
       "        text-align: right;\n",
       "    }\n",
       "</style>\n",
       "<table border=\"1\" class=\"dataframe\">\n",
       "  <thead>\n",
       "    <tr style=\"text-align: right;\">\n",
       "      <th></th>\n",
       "      <th>icecream</th>\n",
       "      <th>sunglasses</th>\n",
       "      <th>coats</th>\n",
       "    </tr>\n",
       "  </thead>\n",
       "  <tbody>\n",
       "    <tr>\n",
       "      <th>Jan</th>\n",
       "      <td>3000</td>\n",
       "      <td>1000</td>\n",
       "      <td>10</td>\n",
       "    </tr>\n",
       "    <tr>\n",
       "      <th>Fev</th>\n",
       "      <td>2600</td>\n",
       "      <td>800</td>\n",
       "      <td>20</td>\n",
       "    </tr>\n",
       "    <tr>\n",
       "      <th>Mar</th>\n",
       "      <td>1400</td>\n",
       "      <td>100</td>\n",
       "      <td>80</td>\n",
       "    </tr>\n",
       "    <tr>\n",
       "      <th>Abr</th>\n",
       "      <td>1500</td>\n",
       "      <td>70</td>\n",
       "      <td>120</td>\n",
       "    </tr>\n",
       "    <tr>\n",
       "      <th>Mai</th>\n",
       "      <td>1200</td>\n",
       "      <td>50</td>\n",
       "      <td>100</td>\n",
       "    </tr>\n",
       "    <tr>\n",
       "      <th>Jun</th>\n",
       "      <td>500</td>\n",
       "      <td>190</td>\n",
       "      <td>500</td>\n",
       "    </tr>\n",
       "    <tr>\n",
       "      <th>Jul</th>\n",
       "      <td>300</td>\n",
       "      <td>60</td>\n",
       "      <td>900</td>\n",
       "    </tr>\n",
       "    <tr>\n",
       "      <th>Ago</th>\n",
       "      <td>400</td>\n",
       "      <td>50</td>\n",
       "      <td>780</td>\n",
       "    </tr>\n",
       "    <tr>\n",
       "      <th>Set</th>\n",
       "      <td>700</td>\n",
       "      <td>100</td>\n",
       "      <td>360</td>\n",
       "    </tr>\n",
       "    <tr>\n",
       "      <th>Out</th>\n",
       "      <td>600</td>\n",
       "      <td>120</td>\n",
       "      <td>100</td>\n",
       "    </tr>\n",
       "    <tr>\n",
       "      <th>Nov</th>\n",
       "      <td>800</td>\n",
       "      <td>130</td>\n",
       "      <td>120</td>\n",
       "    </tr>\n",
       "    <tr>\n",
       "      <th>Dez</th>\n",
       "      <td>1900</td>\n",
       "      <td>900</td>\n",
       "      <td>20</td>\n",
       "    </tr>\n",
       "  </tbody>\n",
       "</table>\n",
       "</div>"
      ],
      "text/plain": [
       "     icecream  sunglasses  coats\n",
       "Jan      3000        1000     10\n",
       "Fev      2600         800     20\n",
       "Mar      1400         100     80\n",
       "Abr      1500          70    120\n",
       "Mai      1200          50    100\n",
       "Jun       500         190    500\n",
       "Jul       300          60    900\n",
       "Ago       400          50    780\n",
       "Set       700         100    360\n",
       "Out       600         120    100\n",
       "Nov       800         130    120\n",
       "Dez      1900         900     20"
      ]
     },
     "execution_count": 25,
     "metadata": {},
     "output_type": "execute_result"
    }
   ],
   "source": [
    "ice_cream = [3000, 2600, 1400, 1500, 1200, 500, 300, 400, 700, 600, 800, 1900]\n",
    "sunglasses = [1000, 800, 100, 70, 50, 190, 60, 50, 100, 120, 130, 900]\n",
    "coats = [10, 20, 80, 120, 100, 500, 900, 780, 360, 100, 120, 20]\n",
    "labels = [\"Jan\", \"Fev\", \"Mar\", \"Abr\", \"Mai\", \"Jun\", \"Jul\", \"Ago\", \"Set\", \"Out\", \"Nov\", \"Dez\"]\n",
    "\n",
    "names = [\"icecream\", \"sunglasses\", \"coats\"]    \n",
    "df = cria_df(labels, ice_cream, sunglasses, coats, names)\n",
    "df"
   ]
  },
  {
   "cell_type": "code",
   "execution_count": null,
   "metadata": {
    "deletable": false,
    "editable": false,
    "nbgrader": {
     "checksum": "b9b39242dcb27de7ebfd5b8f1955dd80",
     "grade": true,
     "grade_id": "cell-b2303ad17830c747",
     "locked": true,
     "points": 1,
     "schema_version": 1,
     "solution": false
    }
   },
   "outputs": [],
   "source": []
  },
  {
   "cell_type": "markdown",
   "metadata": {
    "deletable": false,
    "editable": false,
    "nbgrader": {
     "checksum": "1c920c74d3e91532024391c8b473e6ed",
     "grade": false,
     "grade_id": "cell1c-a00",
     "locked": true,
     "schema_version": 1,
     "solution": false
    }
   },
   "source": [
    "# Exercício 02:\n",
    "\n",
    "Agora, crie uma função que recebe seu dataframe e crie um gráfico de linhas mostrando a evolução das vendas dos produtos ao longo dos meses em porcentagem. Ou seja, um gráfico relacionando a porcentagem de produtos vendidos naquele mês em relação ao ano como um todo para as vendas de sorvetes, óculos de sol e casacos.\n",
    "\n",
    "Seu gráfico deve parecer com o plot abaixo:"
   ]
  },
  {
   "cell_type": "code",
   "execution_count": 28,
   "metadata": {
    "deletable": false,
    "editable": false,
    "nbgrader": {
     "checksum": "829c949c3026cd29d5add10d81a9f7bb",
     "grade": true,
     "grade_id": "cell-d0a2391bf51eef6f",
     "locked": true,
     "points": 0,
     "schema_version": 1,
     "solution": false
    }
   },
   "outputs": [
    {
     "data": {
      "image/png": "[encoded data removed]",
      "text/plain": [
       "<IPython.core.display.Image object>"
      ]
     },
     "execution_count": 28,
     "metadata": {},
     "output_type": "execute_result"
    }
   ],
   "source": [
    "# Note as duas linhas de código abaixo não é a resposta!!! Estou apenas mostrando a imagem que espero!\n",
    "\n",
    "from IPython.display import Image\n",
    "Image('plot1.png')"
   ]
  },
  {
   "cell_type": "code",
   "execution_count": 58,
   "metadata": {
    "deletable": false,
    "nbgrader": {
     "checksum": "f48ad32b1a2a861ab33ca6484c6c61d9",
     "grade": true,
     "grade_id": "cell1-a00",
     "locked": false,
     "points": 0,
     "schema_version": 1,
     "solution": true
    }
   },
   "outputs": [
    {
     "data": {
      "image/png": "[encoded data removed]",
      "text/plain": [
       "<Figure size 432x288 with 1 Axes>"
      ]
     },
     "metadata": {
      "needs_background": "light"
     },
     "output_type": "display_data"
    }
   ],
   "source": [
    "# YOUR CODE HERE\n",
    "def plot_evolution(df):\n",
    "    perc_df = df.div(df.sum(axis=0), axis=1)\n",
    "    perc_df.plot(y=['icecream','sunglasses','coats'])\n",
    "\n",
    "plot_evolution(df)"
   ]
  },
  {
   "cell_type": "markdown",
   "metadata": {
    "deletable": false,
    "editable": false,
    "nbgrader": {
     "checksum": "0d90a90acbe4f80c5dbf816183b54181",
     "grade": false,
     "grade_id": "cell2c-a00",
     "locked": true,
     "schema_version": 1,
     "solution": false
    }
   },
   "source": [
    "# Exercício 03:\n",
    "\n",
    "Utilizando os mesmos dados do exercício anterior, crie uma função que faz um scatter plot entre **icecream** e as outras duas colunas..\n",
    "\n",
    "\n",
    "__Dicas:__  \n",
    "1. \"_Correlação não é o mesmo que causalidade!_\"\n",
    "1. Abaixo novamente mostramos exemplos de figuras que você pode gerar."
   ]
  },
  {
   "cell_type": "code",
   "execution_count": 59,
   "metadata": {
    "deletable": false,
    "editable": false,
    "nbgrader": {
     "checksum": "b525251628688f13adaa72ee37c80884",
     "grade": true,
     "grade_id": "cell-2ea1076a0d7e730e",
     "locked": true,
     "points": 0,
     "schema_version": 1,
     "solution": false
    }
   },
   "outputs": [
    {
     "data": {
      "image/png": "[encoded data removed]",
      "text/plain": [
       "<IPython.core.display.Image object>"
      ]
     },
     "execution_count": 59,
     "metadata": {},
     "output_type": "execute_result"
    }
   ],
   "source": [
    "Image('plot2.png')"
   ]
  },
  {
   "cell_type": "code",
   "execution_count": 60,
   "metadata": {
    "deletable": false,
    "editable": false,
    "nbgrader": {
     "checksum": "4486ddc0d78f06126e6e55cf2c0a8125",
     "grade": true,
     "grade_id": "cell-e5e14252545fafb6",
     "locked": true,
     "points": 0,
     "schema_version": 1,
     "solution": false
    }
   },
   "outputs": [
    {
     "data": {
      "image/png": "[encoded data removed]",
      "text/plain": [
       "<IPython.core.display.Image object>"
      ]
     },
     "execution_count": 60,
     "metadata": {},
     "output_type": "execute_result"
    }
   ],
   "source": [
    "Image('plot3.png')"
   ]
  },
  {
   "cell_type": "code",
   "execution_count": 72,
   "metadata": {
    "deletable": false,
    "nbgrader": {
     "checksum": "e6c6bc1594d62a0d97c0722cfa156782",
     "grade": true,
     "grade_id": "cell2-a00",
     "locked": false,
     "points": 0,
     "schema_version": 1,
     "solution": true
    }
   },
   "outputs": [
    {
     "data": {
      "text/plain": [
       "Text(0, 0.5, 'coats')"
      ]
     },
     "execution_count": 72,
     "metadata": {},
     "output_type": "execute_result"
    },
    {
     "data": {
      "image/png": "[encoded data removed]",
      "text/plain": [
       "<Figure size 432x288 with 1 Axes>"
      ]
     },
     "metadata": {
      "needs_background": "light"
     },
     "output_type": "display_data"
    },
    {
     "data": {
      "image/png": "[encoded data removed]",
      "text/plain": [
       "<Figure size 432x288 with 1 Axes>"
      ]
     },
     "metadata": {
      "needs_background": "light"
     },
     "output_type": "display_data"
    },
    {
     "data": {
      "image/png": "[encoded data removed]",
      "text/plain": [
       "<Figure size 432x288 with 1 Axes>"
      ]
     },
     "metadata": {
      "needs_background": "light"
     },
     "output_type": "display_data"
    }
   ],
   "source": [
    "#Exemplo:\n",
    "ice_cream = [3000, 2600, 1400, 1500, 1200, 500, 300, 400, 700, 600, 800, 1900]\n",
    "sunglasses = [1000, 800, 100, 70, 50, 190, 60, 50, 100, 120, 130, 900]\n",
    "coats = [10, 20, 80, 120, 100, 500, 900, 780, 360, 100, 120, 20]\n",
    "labels = [\"Jan\", \"Fev\", \"Mar\", \"Abr\", \"Mai\", \"Jun\", \"Jul\", \"Ago\", \"Set\", \"Out\", \"Nov\", \"Dez\"]\n",
    "\n",
    "plt.figure(0)\n",
    "plt.scatter(df['icecream'], df['sunglasses'])\n",
    "plt.xlabel('icecream')\n",
    "plt.ylabel('sunglasses')\n",
    "\n",
    "plt.figure(1)\n",
    "plt.scatter(df['icecream'], df['coats'])\n",
    "plt.xlabel('icecream')\n",
    "plt.ylabel('coats')\n",
    "\n",
    "plt.figure(2)\n",
    "plt.scatter(df['sunglasses'], df['coats'])\n",
    "plt.xlabel('sunglasses')\n",
    "plt.ylabel('coats')\n",
    "\n",
    "\n",
    "#def scatter(df):\n",
    "    # YOUR CODE HERE\n",
    "#    raise NotImplementedError()\n",
    "    \n",
    "#scatter(df)"
   ]
  },
  {
   "cell_type": "markdown",
   "metadata": {
    "deletable": false,
    "editable": false,
    "nbgrader": {
     "checksum": "a8995eb2c7e616a2e985fb42f38bdde1",
     "grade": false,
     "grade_id": "cell3c-a00",
     "locked": true,
     "schema_version": 1,
     "solution": false
    }
   },
   "source": [
    "# Exercício 04:\n",
    "\n",
    "\n",
    "Agora vamos trabalhar com dados reais. Na mesma pasta deste notebook, encontra-se um `json` com os dados do site http://www.capitaldoscandidatos.info/. Sua tarefa será usar funções como `groupby` e `hist` para analisar tais dados. Diferente das perguntas anteriores, não vamos mais pedir para que você implemente funções. Ou seja, pode trabalhar diretamente nas células do Jupyter estilo um cientista de dados. \n",
    "\n",
    "Sua primeira tarefa será indicar os 10 partidos que em média mais lucraram depois da primeira eleição. Ou seja, a diferença de patrimônio entre 2014 (eleição 1) e 2018 (eleição 2). Assim, a célula de solução (abaixo, depois da célula que carrega os dados), deve criar uma variável `resposta`. A mesma é uma série pandas com os top 10 partidos que mais lucraram em média. **A resposta tem que ser um pd.Series, ou seja, uma única coluna!**\n",
    "\n",
    "__Dicas__\n",
    "\n",
    "Não necessariamente para este trabalho, mas é sempre bom lembrar:\n",
    "\n",
    "1. Você já aprendeu a programar e quando estiver repetindo muito chamadas, é um bom sinal que deve criar um função.\n",
    "2. Notebooks não são IDEs, use para trabalho exploratório."
   ]
  },
  {
   "cell_type": "code",
   "execution_count": 125,
   "metadata": {
    "deletable": false,
    "editable": false,
    "nbgrader": {
     "checksum": "29ff4044c9756fb87ed7a2f3721e057c",
     "grade": true,
     "grade_id": "cell-472cc848aa90ff95",
     "locked": true,
     "points": 0,
     "schema_version": 1,
     "solution": false
    }
   },
   "outputs": [],
   "source": [
    "df = pd.read_json('capital.json')"
   ]
  },
  {
   "cell_type": "code",
   "execution_count": 399,
   "metadata": {
    "deletable": false,
    "nbgrader": {
     "checksum": "6575fbf12e0ba578192417f0dfe14f32",
     "grade": true,
     "grade_id": "cell3-a00",
     "locked": false,
     "points": 0,
     "schema_version": 1,
     "solution": true
    }
   },
   "outputs": [
    {
     "name": "stdout",
     "output_type": "stream",
     "text": [
      "<class 'pandas.core.frame.DataFrame'>\n",
      "               patrimonio_eleicao_1  patrimonio_eleicao_2\n",
      "sigla_partido                                            \n",
      "AVANTE                   2087781.07            2320959.19\n",
      "DEM                     41017204.59           54889846.72\n",
      "MDB                     53920873.51           62893281.51\n",
      "PATRI                    2583686.51            4022795.01\n",
      "PC do B                  4514275.78            4747130.91\n",
      "PDT                     49911569.27           52872078.60\n",
      "PHS                       123282.68            1345783.77\n",
      "PMN                       990633.58            1161079.24\n",
      "PODE                    18756592.87           22545258.04\n",
      "PP                      51485633.01           69939918.82\n",
      "PPL                       175000.00             145577.65\n",
      "PPS                      7436862.85            8415169.28\n",
      "PR                      64885223.52           89530640.65\n",
      "PRB                     11385269.89           14583657.67\n",
      "PROS                     4862645.98            5785621.90\n",
      "PSB                     38454853.41           48198180.30\n",
      "PSC                      9908367.82            9737479.73\n",
      "PSD                     61258836.77           80123809.78\n",
      "PSDB                    44938495.56           53182094.95\n",
      "PSL                     27196589.10           34578590.53\n",
      "PSOL                     3726416.83            4748422.58\n",
      "PT                      34815591.25           43045760.72\n",
      "PTB                      3118233.34            4251826.75\n",
      "PV                        172604.06             689605.62\n",
      "SOLIDARIED              18303042.83           32451196.29\n"
     ]
    },
    {
     "data": {
      "text/plain": [
       "PR            24645417.13\n",
       "PSD           18864973.01\n",
       "PP            18454285.81\n",
       "SOLIDARIED    14148153.46\n",
       "DEM           13872642.13\n",
       "PSB            9743326.89\n",
       "MDB            8972408.00\n",
       "PSDB           8243599.39\n",
       "PT             8230169.47\n",
       "PSL            7382001.43\n",
       "Name: lucro, dtype: float64"
      ]
     },
     "execution_count": 399,
     "metadata": {},
     "output_type": "execute_result"
    }
   ],
   "source": [
    "# YOUR CODE HERE\n",
    "gb = df.groupby('sigla_partido')\n",
    "grouped = gb.sum()[['patrimonio_eleicao_1', 'patrimonio_eleicao_2']]\n",
    "\n",
    "print(type(grouped))\n",
    "print(grouped)\n",
    "\n",
    "grouped['lucro'] = grouped['patrimonio_eleicao_2'] - grouped['patrimonio_eleicao_1']\n",
    "\n",
    "grouped_sorted = grouped.sort_values('lucro', ascending=False)[0:10]\n",
    "\n",
    "resposta = pd.Series(grouped_sorted['lucro'], index=grouped_sorted.index.values.tolist())\n",
    "resposta"
   ]
  },
  {
   "cell_type": "code",
   "execution_count": null,
   "metadata": {
    "deletable": false,
    "editable": false,
    "nbgrader": {
     "checksum": "b09555ea95ef21bbd66b5404897ee085",
     "grade": true,
     "grade_id": "cell-13f6632aa690a965",
     "locked": true,
     "points": 1,
     "schema_version": 1,
     "solution": false
    }
   },
   "outputs": [],
   "source": []
  },
  {
   "cell_type": "markdown",
   "metadata": {
    "deletable": false,
    "editable": false,
    "nbgrader": {
     "checksum": "b82e18c9c193981937654912e8321623",
     "grade": false,
     "grade_id": "cell-071ef711e4113451",
     "locked": true,
     "schema_version": 1,
     "solution": false
    }
   },
   "source": [
    "Plote sua resposta abaixo!"
   ]
  },
  {
   "cell_type": "code",
   "execution_count": 406,
   "metadata": {
    "deletable": false,
    "nbgrader": {
     "checksum": "b01e1ff9d50e851fc3fefbba8960e652",
     "grade": false,
     "grade_id": "cell-4d69e53a37d18ea7",
     "locked": false,
     "schema_version": 1,
     "solution": true
    }
   },
   "outputs": [
    {
     "data": {
      "text/plain": [
       "Text(0, 0.5, 'Lucro (em milhões de reais)')"
      ]
     },
     "execution_count": 406,
     "metadata": {},
     "output_type": "execute_result"
    },
    {
     "data": {
      "image/png": "[encoded data removed]",
      "text/plain": [
       "<Figure size 432x288 with 1 Axes>"
      ]
     },
     "metadata": {
      "needs_background": "light"
     },
     "output_type": "display_data"
    }
   ],
   "source": [
    "# YOUR CODE HERE\n",
    "partidos_plt = resposta.plot.bar()\n",
    "partidos_plt.set_xlabel('Partidos')\n",
    "partidos_plt.set_ylabel('Lucro (em milhões de reais)')"
   ]
  },
  {
   "cell_type": "markdown",
   "metadata": {
    "deletable": false,
    "editable": false,
    "nbgrader": {
     "checksum": "91df2645d329bbef08891313c7d1e871",
     "grade": false,
     "grade_id": "cell-1008ccfd6983120f",
     "locked": true,
     "schema_version": 1,
     "solution": false
    }
   },
   "source": [
    "# Exercício 05:\n",
    "\n",
    "\n",
    "Por fim, plote o histograma dos valores acima (lucro entre eleições) para todos os partidos. Brinque com valores diferentes do número de bins e interprete os dados. Para que a correção funcione, use a chamada da seguinte forma. Brinque também com variações de histograma normalizado ou não."
   ]
  },
  {
   "cell_type": "code",
   "execution_count": 390,
   "metadata": {
    "deletable": false,
    "nbgrader": {
     "checksum": "94a236177f35f721185fd6e1e76d7ba2",
     "grade": false,
     "grade_id": "cell-76b661e17e7fb310",
     "locked": false,
     "schema_version": 1,
     "solution": true
    }
   },
   "outputs": [
    {
     "data": {
      "text/plain": [
       "<matplotlib.axes._subplots.AxesSubplot at 0x7f27a86f8990>"
      ]
     },
     "execution_count": 390,
     "metadata": {},
     "output_type": "execute_result"
    },
    {
     "data": {
      "image/png": "[encoded data removed]",
      "text/plain": [
       "<Figure size 432x288 with 1 Axes>"
      ]
     },
     "metadata": {
      "needs_background": "light"
     },
     "output_type": "display_data"
    }
   ],
   "source": [
    "#df = pd.read_json('capital.json') # carregando os dados +1 vez, caso tenha alterado.\n",
    "# YOUR CODE HERE\n",
    "grouped.plot.bar(y=['lucro'])"
   ]
  },
  {
   "cell_type": "code",
   "execution_count": 391,
   "metadata": {},
   "outputs": [
    {
     "data": {
      "text/plain": [
       "<matplotlib.axes._subplots.AxesSubplot at 0x7f27a862ee50>"
      ]
     },
     "execution_count": 391,
     "metadata": {},
     "output_type": "execute_result"
    },
    {
     "data": {
      "image/png": "[encoded data removed]",
      "text/plain": [
       "<Figure size 432x288 with 1 Axes>"
      ]
     },
     "metadata": {
      "needs_background": "light"
     },
     "output_type": "display_data"
    }
   ],
   "source": [
    "# Compara patrimônios por eleição por partido\n",
    "grouped.plot.bar(y=['patrimonio_eleicao_1','patrimonio_eleicao_2'])"
   ]
  },
  {
   "cell_type": "code",
   "execution_count": 408,
   "metadata": {},
   "outputs": [
    {
     "data": {
      "text/plain": [
       "Text(0, 0.5, 'Candidatos eleitos')"
      ]
     },
     "execution_count": 408,
     "metadata": {},
     "output_type": "execute_result"
    },
    {
     "data": {
      "image/png": "[encoded data removed]",
      "text/plain": [
       "<Figure size 432x288 with 1 Axes>"
      ]
     },
     "metadata": {
      "needs_background": "light"
     },
     "output_type": "display_data"
    }
   ],
   "source": [
    "# Compara número de candidatos eleitos por eleição por partido\n",
    "gb = df[df.situacao_eleicao_1 == 'ELEITO'].groupby('sigla_partido')\n",
    "eleicao_1 = gb.count()['situacao_eleicao_1']\n",
    "\n",
    "gb = df[df.situacao_eleicao_2 == 'ELEITO'].groupby('sigla_partido')\n",
    "eleicao_2 = gb.count()['situacao_eleicao_2']\n",
    "\n",
    "df_eleicao = pd.concat([eleicao_1, eleicao_2], axis=1)\n",
    "\n",
    "eleicao_plot = df_eleicao.plot.bar(y=['situacao_eleicao_1','situacao_eleicao_2'])\n",
    "eleicao_plot.set_xlabel('Partidos')\n",
    "eleicao_plot.set_ylabel('Candidatos eleitos')"
   ]
  },
  {
   "cell_type": "code",
   "execution_count": 153,
   "metadata": {},
   "outputs": [
    {
     "data": {
      "text/html": [
       "<div>\n",
       "<style scoped>\n",
       "    .dataframe tbody tr th:only-of-type {\n",
       "        vertical-align: middle;\n",
       "    }\n",
       "\n",
       "    .dataframe tbody tr th {\n",
       "        vertical-align: top;\n",
       "    }\n",
       "\n",
       "    .dataframe thead th {\n",
       "        text-align: right;\n",
       "    }\n",
       "</style>\n",
       "<table border=\"1\" class=\"dataframe\">\n",
       "  <thead>\n",
       "    <tr style=\"text-align: right;\">\n",
       "      <th></th>\n",
       "      <th>estado</th>\n",
       "      <th>patrimonio_eleicao_1</th>\n",
       "      <th>patrimonio_eleicao_2</th>\n",
       "      <th>nome_urna</th>\n",
       "      <th>cpf</th>\n",
       "      <th>sigla_partido</th>\n",
       "      <th>cod_unidade_eleitoral_1</th>\n",
       "      <th>cod_unidade_eleitoral_2</th>\n",
       "      <th>unidade_eleitoral</th>\n",
       "      <th>cargo_pleiteado_1</th>\n",
       "      <th>cargo_pleiteado_2</th>\n",
       "      <th>ano_um</th>\n",
       "      <th>ano_dois</th>\n",
       "      <th>sequencial_candidato_1</th>\n",
       "      <th>sequencial_candidato_2</th>\n",
       "      <th>situacao_eleicao_1</th>\n",
       "      <th>situacao_eleicao_2</th>\n",
       "    </tr>\n",
       "  </thead>\n",
       "  <tbody>\n",
       "    <tr>\n",
       "      <th>0</th>\n",
       "      <td>MG</td>\n",
       "      <td>2326963.85</td>\n",
       "      <td>2890296.74</td>\n",
       "      <td>Stefano Aguiar</td>\n",
       "      <td>1608657</td>\n",
       "      <td>PSD</td>\n",
       "      <td>MG</td>\n",
       "      <td>MG</td>\n",
       "      <td>Minas Gerais</td>\n",
       "      <td>DEPUTADO FEDERAL</td>\n",
       "      <td>DEPUTADO FEDERAL</td>\n",
       "      <td>2014</td>\n",
       "      <td>2018</td>\n",
       "      <td>130000001189</td>\n",
       "      <td>130000613225</td>\n",
       "      <td>ELEITO</td>\n",
       "      <td>ELEITO</td>\n",
       "    </tr>\n",
       "    <tr>\n",
       "      <th>1</th>\n",
       "      <td>RJ</td>\n",
       "      <td>4239563.82</td>\n",
       "      <td>3943907.61</td>\n",
       "      <td>Altineu Cortes</td>\n",
       "      <td>7487738</td>\n",
       "      <td>PR</td>\n",
       "      <td>RJ</td>\n",
       "      <td>RJ</td>\n",
       "      <td>Rio De Janeiro</td>\n",
       "      <td>DEPUTADO FEDERAL</td>\n",
       "      <td>DEPUTADO FEDERAL</td>\n",
       "      <td>2014</td>\n",
       "      <td>2018</td>\n",
       "      <td>190000001858</td>\n",
       "      <td>190000604181</td>\n",
       "      <td>ELEITO</td>\n",
       "      <td>ELEITO</td>\n",
       "    </tr>\n",
       "    <tr>\n",
       "      <th>2</th>\n",
       "      <td>BA</td>\n",
       "      <td>1077668.74</td>\n",
       "      <td>2281417.64</td>\n",
       "      <td>Mário Negromonte Jr</td>\n",
       "      <td>31226540</td>\n",
       "      <td>PP</td>\n",
       "      <td>BA</td>\n",
       "      <td>BA</td>\n",
       "      <td>Bahia</td>\n",
       "      <td>DEPUTADO FEDERAL</td>\n",
       "      <td>DEPUTADO FEDERAL</td>\n",
       "      <td>2014</td>\n",
       "      <td>2018</td>\n",
       "      <td>50000000167</td>\n",
       "      <td>50000605225</td>\n",
       "      <td>ELEITO</td>\n",
       "      <td>ELEITO</td>\n",
       "    </tr>\n",
       "    <tr>\n",
       "      <th>3</th>\n",
       "      <td>CE</td>\n",
       "      <td>14399524.97</td>\n",
       "      <td>13160762.14</td>\n",
       "      <td>Roberto Pessoa</td>\n",
       "      <td>113735391</td>\n",
       "      <td>PSDB</td>\n",
       "      <td>CE</td>\n",
       "      <td>CE</td>\n",
       "      <td>Ceará</td>\n",
       "      <td>VICE-GOVERNADOR</td>\n",
       "      <td>DEPUTADO FEDERAL</td>\n",
       "      <td>2014</td>\n",
       "      <td>2018</td>\n",
       "      <td>60000000604</td>\n",
       "      <td>60000611570</td>\n",
       "      <td>NÃO ELEITO</td>\n",
       "      <td>ELEITO</td>\n",
       "    </tr>\n",
       "    <tr>\n",
       "      <th>4</th>\n",
       "      <td>SP</td>\n",
       "      <td>713217.64</td>\n",
       "      <td>972916.79</td>\n",
       "      <td>Vitor Lippi</td>\n",
       "      <td>168780860</td>\n",
       "      <td>PSDB</td>\n",
       "      <td>SP</td>\n",
       "      <td>SP</td>\n",
       "      <td>São Paulo</td>\n",
       "      <td>DEPUTADO FEDERAL</td>\n",
       "      <td>DEPUTADO FEDERAL</td>\n",
       "      <td>2014</td>\n",
       "      <td>2018</td>\n",
       "      <td>250000001354</td>\n",
       "      <td>250000605413</td>\n",
       "      <td>ELEITO</td>\n",
       "      <td>ELEITO</td>\n",
       "    </tr>\n",
       "    <tr>\n",
       "      <th>...</th>\n",
       "      <td>...</td>\n",
       "      <td>...</td>\n",
       "      <td>...</td>\n",
       "      <td>...</td>\n",
       "      <td>...</td>\n",
       "      <td>...</td>\n",
       "      <td>...</td>\n",
       "      <td>...</td>\n",
       "      <td>...</td>\n",
       "      <td>...</td>\n",
       "      <td>...</td>\n",
       "      <td>...</td>\n",
       "      <td>...</td>\n",
       "      <td>...</td>\n",
       "      <td>...</td>\n",
       "      <td>...</td>\n",
       "      <td>...</td>\n",
       "    </tr>\n",
       "    <tr>\n",
       "      <th>349</th>\n",
       "      <td>ES</td>\n",
       "      <td>1067048.16</td>\n",
       "      <td>1230601.08</td>\n",
       "      <td>Da Vitoria</td>\n",
       "      <td>98042734700</td>\n",
       "      <td>PPS</td>\n",
       "      <td>ES</td>\n",
       "      <td>ES</td>\n",
       "      <td>Espírito Santo</td>\n",
       "      <td>DEPUTADO ESTADUAL</td>\n",
       "      <td>DEPUTADO FEDERAL</td>\n",
       "      <td>2014</td>\n",
       "      <td>2018</td>\n",
       "      <td>80000000377</td>\n",
       "      <td>80000611885</td>\n",
       "      <td>ELEITO</td>\n",
       "      <td>ELEITO</td>\n",
       "    </tr>\n",
       "    <tr>\n",
       "      <th>350</th>\n",
       "      <td>MS</td>\n",
       "      <td>1011914.88</td>\n",
       "      <td>1696699.51</td>\n",
       "      <td>Fabio Trad</td>\n",
       "      <td>98303651749</td>\n",
       "      <td>PSD</td>\n",
       "      <td>MS</td>\n",
       "      <td>MS</td>\n",
       "      <td>Mato Grosso Do Sul</td>\n",
       "      <td>DEPUTADO FEDERAL</td>\n",
       "      <td>DEPUTADO FEDERAL</td>\n",
       "      <td>2014</td>\n",
       "      <td>2018</td>\n",
       "      <td>120000000109</td>\n",
       "      <td>120000613463</td>\n",
       "      <td>NÃO ELEITO</td>\n",
       "      <td>ELEITO</td>\n",
       "    </tr>\n",
       "    <tr>\n",
       "      <th>351</th>\n",
       "      <td>PR</td>\n",
       "      <td>376567.41</td>\n",
       "      <td>1131122.02</td>\n",
       "      <td>Ney Leprevost</td>\n",
       "      <td>98451278949</td>\n",
       "      <td>PSD</td>\n",
       "      <td>PR</td>\n",
       "      <td>PR</td>\n",
       "      <td>Paraná</td>\n",
       "      <td>DEPUTADO ESTADUAL</td>\n",
       "      <td>DEPUTADO FEDERAL</td>\n",
       "      <td>2014</td>\n",
       "      <td>2018</td>\n",
       "      <td>160000000566</td>\n",
       "      <td>160000619715</td>\n",
       "      <td>ELEITO</td>\n",
       "      <td>ELEITO</td>\n",
       "    </tr>\n",
       "    <tr>\n",
       "      <th>352</th>\n",
       "      <td>MG</td>\n",
       "      <td>1647125.17</td>\n",
       "      <td>1289581.91</td>\n",
       "      <td>Diego Andrade</td>\n",
       "      <td>99316552672</td>\n",
       "      <td>PSD</td>\n",
       "      <td>MG</td>\n",
       "      <td>MG</td>\n",
       "      <td>Minas Gerais</td>\n",
       "      <td>DEPUTADO FEDERAL</td>\n",
       "      <td>DEPUTADO FEDERAL</td>\n",
       "      <td>2014</td>\n",
       "      <td>2018</td>\n",
       "      <td>130000000716</td>\n",
       "      <td>130000613218</td>\n",
       "      <td>ELEITO</td>\n",
       "      <td>ELEITO</td>\n",
       "    </tr>\n",
       "    <tr>\n",
       "      <th>353</th>\n",
       "      <td>TO</td>\n",
       "      <td>2476968.31</td>\n",
       "      <td>3110990.70</td>\n",
       "      <td>Vicentinho Junior</td>\n",
       "      <td>99898659149</td>\n",
       "      <td>PR</td>\n",
       "      <td>TO</td>\n",
       "      <td>TO</td>\n",
       "      <td>Tocantins</td>\n",
       "      <td>DEPUTADO FEDERAL</td>\n",
       "      <td>DEPUTADO FEDERAL</td>\n",
       "      <td>2014</td>\n",
       "      <td>2018</td>\n",
       "      <td>270000000292</td>\n",
       "      <td>270000610948</td>\n",
       "      <td>ELEITO</td>\n",
       "      <td>ELEITO</td>\n",
       "    </tr>\n",
       "  </tbody>\n",
       "</table>\n",
       "<p>354 rows × 17 columns</p>\n",
       "</div>"
      ],
      "text/plain": [
       "    estado  patrimonio_eleicao_1  patrimonio_eleicao_2            nome_urna  \\\n",
       "0       MG            2326963.85            2890296.74       Stefano Aguiar   \n",
       "1       RJ            4239563.82            3943907.61       Altineu Cortes   \n",
       "2       BA            1077668.74            2281417.64  Mário Negromonte Jr   \n",
       "3       CE           14399524.97           13160762.14       Roberto Pessoa   \n",
       "4       SP             713217.64             972916.79          Vitor Lippi   \n",
       "..     ...                   ...                   ...                  ...   \n",
       "349     ES            1067048.16            1230601.08           Da Vitoria   \n",
       "350     MS            1011914.88            1696699.51           Fabio Trad   \n",
       "351     PR             376567.41            1131122.02        Ney Leprevost   \n",
       "352     MG            1647125.17            1289581.91        Diego Andrade   \n",
       "353     TO            2476968.31            3110990.70    Vicentinho Junior   \n",
       "\n",
       "             cpf sigla_partido cod_unidade_eleitoral_1  \\\n",
       "0        1608657           PSD                      MG   \n",
       "1        7487738            PR                      RJ   \n",
       "2       31226540            PP                      BA   \n",
       "3      113735391          PSDB                      CE   \n",
       "4      168780860          PSDB                      SP   \n",
       "..           ...           ...                     ...   \n",
       "349  98042734700           PPS                      ES   \n",
       "350  98303651749           PSD                      MS   \n",
       "351  98451278949           PSD                      PR   \n",
       "352  99316552672           PSD                      MG   \n",
       "353  99898659149            PR                      TO   \n",
       "\n",
       "    cod_unidade_eleitoral_2   unidade_eleitoral  cargo_pleiteado_1  \\\n",
       "0                        MG        Minas Gerais   DEPUTADO FEDERAL   \n",
       "1                        RJ      Rio De Janeiro   DEPUTADO FEDERAL   \n",
       "2                        BA               Bahia   DEPUTADO FEDERAL   \n",
       "3                        CE               Ceará    VICE-GOVERNADOR   \n",
       "4                        SP           São Paulo   DEPUTADO FEDERAL   \n",
       "..                      ...                 ...                ...   \n",
       "349                      ES      Espírito Santo  DEPUTADO ESTADUAL   \n",
       "350                      MS  Mato Grosso Do Sul   DEPUTADO FEDERAL   \n",
       "351                      PR              Paraná  DEPUTADO ESTADUAL   \n",
       "352                      MG        Minas Gerais   DEPUTADO FEDERAL   \n",
       "353                      TO           Tocantins   DEPUTADO FEDERAL   \n",
       "\n",
       "    cargo_pleiteado_2  ano_um  ano_dois  sequencial_candidato_1  \\\n",
       "0    DEPUTADO FEDERAL    2014      2018            130000001189   \n",
       "1    DEPUTADO FEDERAL    2014      2018            190000001858   \n",
       "2    DEPUTADO FEDERAL    2014      2018             50000000167   \n",
       "3    DEPUTADO FEDERAL    2014      2018             60000000604   \n",
       "4    DEPUTADO FEDERAL    2014      2018            250000001354   \n",
       "..                ...     ...       ...                     ...   \n",
       "349  DEPUTADO FEDERAL    2014      2018             80000000377   \n",
       "350  DEPUTADO FEDERAL    2014      2018            120000000109   \n",
       "351  DEPUTADO FEDERAL    2014      2018            160000000566   \n",
       "352  DEPUTADO FEDERAL    2014      2018            130000000716   \n",
       "353  DEPUTADO FEDERAL    2014      2018            270000000292   \n",
       "\n",
       "     sequencial_candidato_2 situacao_eleicao_1 situacao_eleicao_2  \n",
       "0              130000613225             ELEITO             ELEITO  \n",
       "1              190000604181             ELEITO             ELEITO  \n",
       "2               50000605225             ELEITO             ELEITO  \n",
       "3               60000611570         NÃO ELEITO             ELEITO  \n",
       "4              250000605413             ELEITO             ELEITO  \n",
       "..                      ...                ...                ...  \n",
       "349             80000611885             ELEITO             ELEITO  \n",
       "350            120000613463         NÃO ELEITO             ELEITO  \n",
       "351            160000619715             ELEITO             ELEITO  \n",
       "352            130000613218             ELEITO             ELEITO  \n",
       "353            270000610948             ELEITO             ELEITO  \n",
       "\n",
       "[354 rows x 17 columns]"
      ]
     },
     "execution_count": 153,
     "metadata": {},
     "output_type": "execute_result"
    }
   ],
   "source": [
    "df"
   ]
  },
  {
   "cell_type": "code",
   "execution_count": 416,
   "metadata": {},
   "outputs": [
    {
     "data": {
      "text/plain": [
       "{'ES': 'DEM',\n",
       " 'AL': 'PSB',\n",
       " 'BA': 'PP',\n",
       " 'MG': 'PSD',\n",
       " 'MS': 'PDT',\n",
       " 'AP': 'PR',\n",
       " 'AM': 'PP',\n",
       " 'RO': 'PP',\n",
       " 'PA': 'MDB',\n",
       " 'RS': 'PDT',\n",
       " 'DF': 'PR',\n",
       " 'PE': 'PSB',\n",
       " 'RJ': 'PR',\n",
       " 'RR': 'PSDB',\n",
       " 'AC': 'MDB',\n",
       " 'TO': 'DEM',\n",
       " 'PR': 'PSD',\n",
       " 'CE': 'PSDB',\n",
       " 'PB': 'PP',\n",
       " 'SC': 'MDB',\n",
       " 'MA': 'PR',\n",
       " 'PI': 'PDT',\n",
       " 'RN': 'PSD',\n",
       " 'SE': 'PR',\n",
       " 'MT': 'MDB',\n",
       " 'SP': 'PSDB',\n",
       " 'GO': 'PR'}"
      ]
     },
     "execution_count": 416,
     "metadata": {},
     "output_type": "execute_result"
    }
   ],
   "source": [
    "# Encontra partido que fez o maior investimento para cada estado na primeira eleição\n",
    "max_inv_partido_por_estado = {}\n",
    "for estado in set(df['estado']):\n",
    "    dados_estado = df[df['estado'] == estado]\n",
    "    eleicao_1 = dados_estado[['estado', 'patrimonio_eleicao_1', 'sigla_partido']]\n",
    "    group_partidos = eleicao_1.groupby(['sigla_partido']).sum()['patrimonio_eleicao_1']\n",
    "    \n",
    "    max_investimento = group_partidos.max()\n",
    "    partido_max_investimento = group_partidos[group_partidos == max_investimento].index[0]\n",
    "    \n",
    "    max_inv_partido_por_estado[estado] =  partido_max_investimento\n",
    "\n",
    "max_inv_partido_por_estado\n",
    "\n",
    "# eleicao_1[eleicao_1['patrimonio_eleicao_1'] == 20972443.86]['sigla_partido'].iloc[0]\n",
    "\n",
    "\n",
    "#     group_partidos['estado'] = estado\n",
    "#     print(group_partidos['estado'])\n",
    "\n",
    "#     max_investimento = group_partidos['patrimonio_eleicao_1'].max()\n",
    "#     print(max_investimento)\n",
    "#     a = group_partidos[group_partidos['patrimonio_eleicao_1']==max_investimento]\n",
    "#     print(a)\n",
    "#     partido_max_investimento = group_partidos[group_partidos['patrimonio_eleicao_1']==max_investimento]['sigla_partido']\n",
    "#     print(partido_max_investimento)\n",
    "    \n",
    "#     investimento_por_estado[estado] = partido_max_investimento\n",
    "#investimento_por_estado"
   ]
  },
  {
   "cell_type": "code",
   "execution_count": null,
   "metadata": {},
   "outputs": [],
   "source": []
  }
 ],
 "metadata": {
  "kernelspec": {
   "display_name": "Python 3",
   "language": "python",
   "name": "python3"
  },
  "language_info": {
   "codemirror_mode": {
    "name": "ipython",
    "version": 3
   },
   "file_extension": ".py",
   "mimetype": "text/x-python",
   "name": "python",
   "nbconvert_exporter": "python",
   "pygments_lexer": "ipython3",
   "version": "3.7.6"
  }
 },
 "nbformat": 4,
 "nbformat_minor": 2
}
