{
 "cells": [
  {
   "cell_type": "markdown",
   "metadata": {
    "deletable": false,
    "editable": false,
    "nbgrader": {
     "cell_type": "markdown",
     "checksum": "0e120e1b654bc38ffc686a964e6cc7ba",
     "grade": false,
     "grade_id": "cell-75fa16f93b279502",
     "locked": true,
     "schema_version": 3,
     "solution": false,
     "task": false
    }
   },
   "source": [
    "# Lista 05 - IC + Teste de Hipóteses"
   ]
  },
  {
   "cell_type": "code",
   "execution_count": 1,
   "metadata": {
    "deletable": false,
    "editable": false,
    "nbgrader": {
     "cell_type": "code",
     "checksum": "efa9fa4d7c64847f35885cb915e005a4",
     "grade": false,
     "grade_id": "cell-a5aa0941d0a7d477",
     "locked": true,
     "schema_version": 3,
     "solution": false,
     "task": false
    }
   },
   "outputs": [],
   "source": [
    "import pandas as pd\n",
    "import matplotlib.pyplot as plt\n",
    "import numpy as np\n",
    "import math\n",
    "\n",
    "from scipy.stats import binom"
   ]
  },
  {
   "cell_type": "markdown",
   "metadata": {
    "deletable": false,
    "editable": false,
    "nbgrader": {
     "cell_type": "markdown",
     "checksum": "c5d5bb972e7c072ed73319ecd610cdc0",
     "grade": false,
     "grade_id": "cell-50122483e082f1ba",
     "locked": true,
     "schema_version": 3,
     "solution": false,
     "task": false
    }
   },
   "source": [
    "# Exercício 1\n",
    "\n",
    "Utilize o dataset dados-covid-mg para explorar a seguinte hipótese:\n",
    "\n",
    "Hipótese: Em MG cerca de 50% da população já foi detectada com COVID.\n",
    "\n",
    "Dataset obtido no openDataSUS, um recorte do estado de MG. Para facilitar, algumas colunas foram removidas e o atributo classificacaoFinal foi binarizado."
   ]
  },
  {
   "cell_type": "code",
   "execution_count": 2,
   "metadata": {
    "deletable": false,
    "editable": false,
    "nbgrader": {
     "cell_type": "code",
     "checksum": "44ba63b4803d796bb238136dfa5f6c7b",
     "grade": false,
     "grade_id": "cell-9129ebc281fc622a",
     "locked": true,
     "schema_version": 3,
     "solution": false,
     "task": false
    }
   },
   "outputs": [
    {
     "data": {
      "text/html": [
       "<div>\n",
       "<style scoped>\n",
       "    .dataframe tbody tr th:only-of-type {\n",
       "        vertical-align: middle;\n",
       "    }\n",
       "\n",
       "    .dataframe tbody tr th {\n",
       "        vertical-align: top;\n",
       "    }\n",
       "\n",
       "    .dataframe thead th {\n",
       "        text-align: right;\n",
       "    }\n",
       "</style>\n",
       "<table border=\"1\" class=\"dataframe\">\n",
       "  <thead>\n",
       "    <tr style=\"text-align: right;\">\n",
       "      <th></th>\n",
       "      <th>id</th>\n",
       "      <th>profissionalSaude</th>\n",
       "      <th>tipoTeste</th>\n",
       "      <th>resultadoTeste</th>\n",
       "      <th>estado</th>\n",
       "      <th>municipio</th>\n",
       "      <th>classificacaoFinal</th>\n",
       "    </tr>\n",
       "  </thead>\n",
       "  <tbody>\n",
       "    <tr>\n",
       "      <th>0</th>\n",
       "      <td>R3y2Di9K0s</td>\n",
       "      <td>Não</td>\n",
       "      <td>RT-PCR</td>\n",
       "      <td>Negativo</td>\n",
       "      <td>MINAS GERAIS</td>\n",
       "      <td>Varginha</td>\n",
       "      <td>0</td>\n",
       "    </tr>\n",
       "    <tr>\n",
       "      <th>1</th>\n",
       "      <td>4awz0HPaCl</td>\n",
       "      <td>Sim</td>\n",
       "      <td>RT-PCR</td>\n",
       "      <td>Negativo</td>\n",
       "      <td>MINAS GERAIS</td>\n",
       "      <td>Carmópolis de Minas</td>\n",
       "      <td>0</td>\n",
       "    </tr>\n",
       "    <tr>\n",
       "      <th>2</th>\n",
       "      <td>0RjrlH0bs5</td>\n",
       "      <td>Não</td>\n",
       "      <td>NaN</td>\n",
       "      <td>NaN</td>\n",
       "      <td>MINAS GERAIS</td>\n",
       "      <td>Conselheiro Lafaiete</td>\n",
       "      <td>0</td>\n",
       "    </tr>\n",
       "    <tr>\n",
       "      <th>3</th>\n",
       "      <td>83B4gJDLpU</td>\n",
       "      <td>Não</td>\n",
       "      <td>NaN</td>\n",
       "      <td>NaN</td>\n",
       "      <td>MINAS GERAIS</td>\n",
       "      <td>Mariana</td>\n",
       "      <td>0</td>\n",
       "    </tr>\n",
       "    <tr>\n",
       "      <th>4</th>\n",
       "      <td>H8GKXacI4T</td>\n",
       "      <td>Não</td>\n",
       "      <td>NaN</td>\n",
       "      <td>NaN</td>\n",
       "      <td>MINAS GERAIS</td>\n",
       "      <td>Januária</td>\n",
       "      <td>0</td>\n",
       "    </tr>\n",
       "  </tbody>\n",
       "</table>\n",
       "</div>"
      ],
      "text/plain": [
       "           id profissionalSaude tipoTeste resultadoTeste        estado  \\\n",
       "0  R3y2Di9K0s               Não    RT-PCR       Negativo  MINAS GERAIS   \n",
       "1  4awz0HPaCl               Sim    RT-PCR       Negativo  MINAS GERAIS   \n",
       "2  0RjrlH0bs5               Não       NaN            NaN  MINAS GERAIS   \n",
       "3  83B4gJDLpU               Não       NaN            NaN  MINAS GERAIS   \n",
       "4  H8GKXacI4T               Não       NaN            NaN  MINAS GERAIS   \n",
       "\n",
       "              municipio  classificacaoFinal  \n",
       "0              Varginha                   0  \n",
       "1   Carmópolis de Minas                   0  \n",
       "2  Conselheiro Lafaiete                   0  \n",
       "3               Mariana                   0  \n",
       "4              Januária                   0  "
      ]
     },
     "execution_count": 2,
     "metadata": {},
     "output_type": "execute_result"
    }
   ],
   "source": [
    "df = pd.read_csv('dados-covid-mg.csv')\n",
    "df.head()"
   ]
  },
  {
   "cell_type": "markdown",
   "metadata": {
    "deletable": false,
    "editable": false,
    "nbgrader": {
     "cell_type": "markdown",
     "checksum": "31de4ebb0b9b96a2ff0e624ba07d5516",
     "grade": false,
     "grade_id": "cell-3b461941ee919668",
     "locked": true,
     "schema_version": 3,
     "solution": false,
     "task": false
    }
   },
   "source": [
    "A) Calcule a prevalência de infectados na amostra, armazene na variável p."
   ]
  },
  {
   "cell_type": "code",
   "execution_count": 3,
   "metadata": {
    "deletable": false,
    "nbgrader": {
     "cell_type": "code",
     "checksum": "ed8dd2702bf31724f277ef638431b462",
     "grade": false,
     "grade_id": "cell-bec5d63ea34dcdd3",
     "locked": false,
     "schema_version": 3,
     "solution": true,
     "task": false
    }
   },
   "outputs": [
    {
     "data": {
      "text/plain": [
       "0.409622523888832"
      ]
     },
     "execution_count": 3,
     "metadata": {},
     "output_type": "execute_result"
    }
   ],
   "source": [
    "# YOUR CODE HERE\n",
    "n1 = len(df[df['classificacaoFinal'] == 1]) # número de 'positivos'\n",
    "n = len(df) # número total de testes\n",
    "\n",
    "p = n1 / n\n",
    "p"
   ]
  },
  {
   "cell_type": "markdown",
   "metadata": {
    "deletable": false,
    "editable": false,
    "nbgrader": {
     "cell_type": "markdown",
     "checksum": "bc530b994dadc85effea8585295051dd",
     "grade": false,
     "grade_id": "cell-871ea00a3fea6962",
     "locked": true,
     "schema_version": 3,
     "solution": false,
     "task": false
    }
   },
   "source": [
    "B) Calcule a variância (utilizando p), armazene em var."
   ]
  },
  {
   "cell_type": "code",
   "execution_count": 4,
   "metadata": {
    "deletable": false,
    "nbgrader": {
     "cell_type": "code",
     "checksum": "ca91d6171af82592ac16876dd9bf4c3e",
     "grade": false,
     "grade_id": "cell-7516a8a398eab1b0",
     "locked": false,
     "schema_version": 3,
     "solution": true,
     "task": false
    }
   },
   "outputs": [
    {
     "data": {
      "text/plain": [
       "21293.299835026814"
      ]
     },
     "execution_count": 4,
     "metadata": {},
     "output_type": "execute_result"
    }
   ],
   "source": [
    "# YOUR CODE HERE\n",
    "var = n1 * p * (1 - p) #variancia de uma binomial\n",
    "var"
   ]
  },
  {
   "cell_type": "markdown",
   "metadata": {
    "deletable": false,
    "editable": false,
    "nbgrader": {
     "cell_type": "markdown",
     "checksum": "47aa887fef43f3f66d9611a6b4a62f8e",
     "grade": false,
     "grade_id": "cell-789a68d867294cae",
     "locked": true,
     "schema_version": 3,
     "solution": false,
     "task": false
    }
   },
   "source": [
    "C) Calcule o intervalo de confiança dessa estimativa, considerando 95% de chance. O resultado deve ser uma tupla a,b armazenada em ic."
   ]
  },
  {
   "cell_type": "code",
   "execution_count": 5,
   "metadata": {
    "deletable": false,
    "nbgrader": {
     "cell_type": "code",
     "checksum": "e3463465b872b6ab7989109e78780dfc",
     "grade": false,
     "grade_id": "cell-6ec307f2b8d87f34",
     "locked": false,
     "schema_version": 3,
     "solution": true,
     "task": false
    }
   },
   "outputs": [],
   "source": [
    "# YOUR CODE HERE\n",
    "inferior = p - (1.96 * math.sqrt(p * (1 - p) / n))\n",
    "superior = p + (1.96 * math.sqrt(p * (1 - p) / n))\n",
    "ic = [inferior, superior]"
   ]
  },
  {
   "cell_type": "markdown",
   "metadata": {
    "deletable": false,
    "editable": false,
    "nbgrader": {
     "cell_type": "markdown",
     "checksum": "7ce18ccfd2a1f7136b45b59e185c1488",
     "grade": false,
     "grade_id": "cell-cf9c58dd514d5e5a",
     "locked": true,
     "schema_version": 3,
     "solution": false,
     "task": false
    }
   },
   "source": [
    "D) Quais as afirmações analíticas podem ser feitas com base nessa exploração? Se julgar necessário plote gráficos que corroborem a análise."
   ]
  },
  {
   "cell_type": "code",
   "execution_count": 6,
   "metadata": {
    "deletable": false,
    "nbgrader": {
     "cell_type": "code",
     "checksum": "40ffd47e017fd761102498065191b749",
     "grade": true,
     "grade_id": "cell-372b0da9e8729747",
     "locked": false,
     "points": 1,
     "schema_version": 3,
     "solution": true,
     "task": false
    }
   },
   "outputs": [
    {
     "data": {
      "image/png": "[encoded data removed]",
      "text/plain": [
       "<Figure size 432x288 with 1 Axes>"
      ]
     },
     "metadata": {
      "needs_background": "light"
     },
     "output_type": "display_data"
    },
    {
     "data": {
      "image/png": "[encoded data removed]",
      "text/plain": [
       "<Figure size 432x288 with 1 Axes>"
      ]
     },
     "metadata": {
      "needs_background": "light"
     },
     "output_type": "display_data"
    }
   ],
   "source": [
    "# YOUR CODE HERE\n",
    "\n",
    "# Vamos utilizar, além do IC, a técnica de Bootstrap para tentar dizer se a média da amostra\n",
    "# se aproxima da média da população\n",
    "\n",
    "def bootstrap_p(pop, n, size):\n",
    "    pop_size = len(pop) # número total de testes\n",
    "    values = np.zeros(n)\n",
    "    \n",
    "    for i in range(n):\n",
    "        sample = pop.sample(size, replace=True)\n",
    "        n1 = len(sample[sample['classificacaoFinal'] == 1]) # número de 'positivos'\n",
    "        p = n1 / pop_size\n",
    "        values[i] = p\n",
    "    return values\n",
    "\n",
    "# O método confirma que o valor real de p se aproxima de algum número no intervalo [0.407, 0.411]\n",
    "# como visto acima. O seguinte gráfico mostra essa informação:\n",
    "\n",
    "b = bootstrap_p(df, 1000, len(df))\n",
    "plt.axvline(x=b.mean(), color='green', label=\"Média dos valores\")\n",
    "plt.hist(b)\n",
    "plt.title(\"Distribuição de valores p para a amostra via bootstrap\")\n",
    "plt.legend()\n",
    "plt.show()\n",
    "\n",
    "# O seguinte gráfico mostra o quão distante o valor que indica que \"50% da população já foi infectada com COVID\"\n",
    "# se encontra dos dados simulados pelo método bootstrap. Percebemos, então, que essa afirmação\n",
    "# provavelmente está incorreta.\n",
    "\n",
    "plt.axvline(x=0.5, color='red', label=\"Média 50%\")\n",
    "plt.hist(b)\n",
    "plt.title(\"Distribuição de valores p para a amostra via bootstrap\")\n",
    "plt.legend()\n",
    "plt.show()"
   ]
  },
  {
   "cell_type": "markdown",
   "metadata": {
    "deletable": false,
    "editable": false,
    "nbgrader": {
     "cell_type": "markdown",
     "checksum": "4921471dba3ff9fdfe6a773b91826c3e",
     "grade": false,
     "grade_id": "cell-ef3ae0cc47a50adf",
     "locked": true,
     "schema_version": 3,
     "solution": false,
     "task": false
    }
   },
   "source": [
    "# Exercício 2\n",
    "\n",
    "Hipótese Nula: A prevalência de COVID para profissionais de saúde é igual a de não profissionais de saúde.\n",
    "\n",
    "Utilize o teste de permutação para randomizando os dados, aproximar o p-valor e validar se a hipótese é aceita."
   ]
  },
  {
   "cell_type": "code",
   "execution_count": 7,
   "metadata": {
    "deletable": false,
    "editable": false,
    "nbgrader": {
     "cell_type": "code",
     "checksum": "e26f59e78bc28f43c77548c120df5715",
     "grade": false,
     "grade_id": "cell-392a1d5f2eb713c3",
     "locked": true,
     "schema_version": 3,
     "solution": false,
     "task": false
    }
   },
   "outputs": [],
   "source": [
    "#Convertendo as series para numpy\n",
    "profissionais = df['profissionalSaude'].to_numpy()\n",
    "classificacaoFinal = df['classificacaoFinal'].to_numpy()"
   ]
  },
  {
   "cell_type": "markdown",
   "metadata": {
    "deletable": false,
    "editable": false,
    "nbgrader": {
     "cell_type": "markdown",
     "checksum": "24fa136d5cbc9e161eabadd8d03a6fa2",
     "grade": false,
     "grade_id": "cell-5528fde7d0549f46",
     "locked": true,
     "schema_version": 3,
     "solution": false,
     "task": false
    }
   },
   "source": [
    "A) Calcule t_obs, armazene em t_obs."
   ]
  },
  {
   "cell_type": "code",
   "execution_count": 8,
   "metadata": {
    "deletable": false,
    "nbgrader": {
     "cell_type": "code",
     "checksum": "fc5a2527cce73ab85c01241922e41f29",
     "grade": false,
     "grade_id": "cell-86fdaf9bb0e28fbd",
     "locked": false,
     "schema_version": 3,
     "solution": true,
     "task": false
    }
   },
   "outputs": [],
   "source": [
    "# YOUR CODE HERE\n",
    "\n",
    "def observed_statistic(profissionais, classificacao):\n",
    "    isProfissional = profissionais == 'Sim'\n",
    "    isContaminado = classificacao == 1\n",
    "\n",
    "    # Calcula p para profissionais infectados\n",
    "    qtd_profissionais_infectados = len(classificacao[isProfissional & isContaminado])\n",
    "    qtd_profissionais_total = len(profissionais[isProfissional])\n",
    "    p_profissionais_infectados = qtd_profissionais_infectados / qtd_profissionais_total\n",
    "\n",
    "    # Calcula p para não profissionais infectados\n",
    "    qtd_nao_profissionais_infectados = len(classificacao[~isProfissional & isContaminado])\n",
    "    qtd_nao_profissionais_total = len(profissionais[~isProfissional])\n",
    "    p_nao_profissionais_infectados = qtd_nao_profissionais_infectados / qtd_nao_profissionais_total\n",
    "\n",
    "    t_obs = p_profissionais_infectados - p_nao_profissionais_infectados\n",
    "    return t_obs\n",
    "\n",
    "t_obs = observed_statistic(profissionais, classificacaoFinal)"
   ]
  },
  {
   "cell_type": "markdown",
   "metadata": {
    "deletable": false,
    "editable": false,
    "nbgrader": {
     "cell_type": "markdown",
     "checksum": "6cb0986c09148c98f9076634ebe8a7fc",
     "grade": false,
     "grade_id": "cell-1e66ab597f807728",
     "locked": true,
     "schema_version": 3,
     "solution": false,
     "task": false
    }
   },
   "source": [
    "B) Implemente o teste de permutação para os dados\n",
    "\n",
    "Relembrando: Shuffle, computar diferença média, fazer isso n vezes.\n",
    "\n",
    "Para sua análise utilize o valor de N que considerar adequado, no entanto na entrega fixe N em 1000. Armazene a lista de diferenças em diferencas."
   ]
  },
  {
   "cell_type": "code",
   "execution_count": 9,
   "metadata": {
    "deletable": false,
    "nbgrader": {
     "cell_type": "code",
     "checksum": "c3cdcf889efe81ddc9f3247fe53c021b",
     "grade": true,
     "grade_id": "cell-dd07fc71bd2ba3e3",
     "locked": false,
     "points": 0,
     "schema_version": 3,
     "solution": true,
     "task": false
    }
   },
   "outputs": [],
   "source": [
    "# YOUR CODE HERE\n",
    "def teste_permutacao(p):\n",
    "    diferencas = np.zeros(1000)\n",
    "    for i in range(1000):\n",
    "        np.random.shuffle(p)\n",
    "        diferencas[i] = observed_statistic(p, classificacaoFinal)\n",
    "    return diferencas"
   ]
  },
  {
   "cell_type": "markdown",
   "metadata": {
    "deletable": false,
    "editable": false,
    "nbgrader": {
     "cell_type": "markdown",
     "checksum": "4f4b0f088e9e84336277708ff9335a64",
     "grade": false,
     "grade_id": "cell-4896c0a60838cab2",
     "locked": true,
     "schema_version": 3,
     "solution": false,
     "task": false
    }
   },
   "source": [
    "C) Plote o histograma e avalie qual a chance de um t_obs maior que os dados."
   ]
  },
  {
   "cell_type": "code",
   "execution_count": 10,
   "metadata": {
    "deletable": false,
    "nbgrader": {
     "cell_type": "code",
     "checksum": "4dd83dafe0319972be6029a4b17d9cad",
     "grade": true,
     "grade_id": "cell-f1a0ed8a7bb3e1d0",
     "locked": false,
     "points": 0.5,
     "schema_version": 3,
     "solution": true,
     "task": false
    }
   },
   "outputs": [
    {
     "data": {
      "text/plain": [
       "[<matplotlib.lines.Line2D at 0x7f1436929990>]"
      ]
     },
     "execution_count": 10,
     "metadata": {},
     "output_type": "execute_result"
    },
    {
     "data": {
      "image/png": "[encoded data removed]",
      "text/plain": [
       "<Figure size 432x288 with 1 Axes>"
      ]
     },
     "metadata": {
      "needs_background": "light"
     },
     "output_type": "display_data"
    }
   ],
   "source": [
    "# YOUR CODE HERE\n",
    "diferencas = teste_permutacao(profissionais)\n",
    "plt.hist(diferencas)\n",
    "plt.plot(t_obs, 0, 'ro', ms=10)"
   ]
  },
  {
   "cell_type": "markdown",
   "metadata": {
    "deletable": false,
    "editable": false,
    "nbgrader": {
     "cell_type": "markdown",
     "checksum": "e794ccc316c17b2ff8ce6b80fbfd292c",
     "grade": false,
     "grade_id": "cell-1451182143885334",
     "locked": true,
     "schema_version": 3,
     "solution": false,
     "task": false
    }
   },
   "source": [
    "D) A hipótese nula é aceita ou rejeitada? Explique"
   ]
  },
  {
   "cell_type": "markdown",
   "metadata": {
    "deletable": false,
    "nbgrader": {
     "cell_type": "code",
     "checksum": "acb98867f179189f0c87b8a7bd1e1760",
     "grade": true,
     "grade_id": "cell-828cf92666d6f930",
     "locked": false,
     "points": 0.5,
     "schema_version": 3,
     "solution": true,
     "task": false
    }
   },
   "source": [
    "A hipótese nula é rejeitada. O valor reportado tem probabilidade nula de acontecer no caso de a prevalência de COVID para profissionais de saúde ser igual a de não profissionais de saúde."
   ]
  }
 ],
 "metadata": {
  "kernelspec": {
   "display_name": "Python 3",
   "language": "python",
   "name": "python3"
  },
  "language_info": {
   "codemirror_mode": {
    "name": "ipython",
    "version": 3
   },
   "file_extension": ".py",
   "mimetype": "text/x-python",
   "name": "python",
   "nbconvert_exporter": "python",
   "pygments_lexer": "ipython3",
   "version": "3.7.6"
  }
 },
 "nbformat": 4,
 "nbformat_minor": 2
}
